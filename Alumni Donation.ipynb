{
 "cells": [
  {
   "cell_type": "markdown",
   "id": "67a9cc2b",
   "metadata": {},
   "source": [
    "# Initial Data Exploration "
   ]
  },
  {
   "cell_type": "code",
   "execution_count": null,
   "id": "248319a8",
   "metadata": {},
   "outputs": [],
   "source": [
    "import pandas as pd\n",
    "import numpy as np\n",
    "\n",
    "data = pd.read_csv('DonationHistory.csv')\n",
    "\n",
    "print(data.head())\n",
    "print(data.info())\n",
    "print(data.describe())"
   ]
  },
  {
   "cell_type": "markdown",
   "id": "b46c3988",
   "metadata": {},
   "source": [
    "# Data Cleaning and Preprocessing "
   ]
  },
  {
   "cell_type": "code",
   "execution_count": null,
   "id": "4e75aefb",
   "metadata": {},
   "outputs": [],
   "source": [
    "import pandas as pd\n",
    "import numpy as np\n",
    "\n",
    "# MI: 1 if MI is present and 0 if not\n",
    "data['MI'] = np.where(data['MI'].isna(), 0, 1)\n",
    "\n",
    "# ALUMNI_TYPE: Binary encoding, assuming 'Undergraduate' as 0, 'Graduate' as 1\n",
    "data['ALUMNI_TYPE'] = np.where(data['ALUMNI_TYPE'] == 'Graduate', 1, 0)\n",
    "\n",
    "# GENDER: 'M' to 1 and 'F' to 0\n",
    "data['GENDER'] = np.where(data['GENDER'] == 'M', 1, 0)\n",
    "\n",
    "# MARRIED_TO_ALUM: 'Y' to 1 and 'N' to 0\n",
    "data['MARRIED_TO_ALUM'] = np.where(data['MARRIED_TO_ALUM'] == 'Y', 1, 0)"
   ]
  },
  {
   "cell_type": "markdown",
   "id": "bba828cc",
   "metadata": {},
   "source": [
    "# Feature Engineering "
   ]
  },
  {
   "cell_type": "code",
   "execution_count": null,
   "id": "7ba642a3",
   "metadata": {},
   "outputs": [],
   "source": [
    "# UG_AND_GRAD: Indicating both UG and GRAD degrees were completed\n",
    "data['UG_AND_GRAD'] = np.where((data['UG_CLASS_YEAR'] > 0) & (data['GRAD_CLASS_YEAR'] > 0), 1, 0)\n",
    "\n",
    "# TIME_PERIOD: Indicating the time period between the donors' UG and GRAD studies\n",
    "data['TIME_PERIOD'] = np.where(data['GRAD_CLASS_YEAR'] > 0, \n",
    "                               data['GRAD_CLASS_YEAR'] - data['UG_CLASS_YEAR'], \n",
    "                               -1) # If there is no graduate degree, 'TIME_PERIOD' is set to -1"
   ]
  },
  {
   "cell_type": "code",
   "execution_count": null,
   "id": "f79596ea",
   "metadata": {},
   "outputs": [],
   "source": [
    "# Dropping Columns that would not be useful for further analysis\n",
    "data.drop(columns=['CITY', 'ZIP', 'UG_SCHOOL', 'GRAD_DEGREE', 'GRAD_SCHOOL', 'GENDER'], inplace=True)\n",
    "print(data.head())"
   ]
  },
  {
   "cell_type": "markdown",
   "id": "5d86c00a",
   "metadata": {},
   "source": [
    "# Model Training and Evaluation"
   ]
  },
  {
   "cell_type": "markdown",
   "id": "e5da1024",
   "metadata": {},
   "source": [
    "### Splitting Dataset into Training and Test Sets "
   ]
  },
  {
   "cell_type": "code",
   "execution_count": null,
   "id": "eb8a683d",
   "metadata": {},
   "outputs": [],
   "source": [
    "from sklearn.model_selection import train_test_split\n",
    "from sklearn.model_selection import GridSearchCV\n",
    "from sklearn.ensemble import RandomForestClassifier\n",
    "from xgboost import XGBClassifier\n",
    "from sklearn.metrics import accuracy_score, roc_auc_score\n",
    "\n",
    "# Target variable\n",
    "data['DONATED'] = np.where(data['NUMBER_OF_DONATIONS'] > 0, 1, 0)\n",
    "\n",
    "X = data.drop(columns=['ACCOUNT_ID', 'NUMBER_OF_DONATIONS', 'VALUE_OF_DONATIONS', 'DONATED', 'STATE'])\n",
    "y = data['DONATED']\n",
    "\n",
    "X_train, X_test, y_train, y_test = train_test_split(X, y, test_size=0.2, random_state=42)\n"
   ]
  },
  {
   "cell_type": "markdown",
   "id": "e5ef75ba",
   "metadata": {},
   "source": [
    "### Hyperparameter Tuning "
   ]
  },
  {
   "cell_type": "code",
   "execution_count": null,
   "id": "9b00c0f0",
   "metadata": {},
   "outputs": [],
   "source": [
    "from sklearn.model_selection import RandomizedSearchCV\n",
    "\n",
    "# Hyperparameter tuning for Random Forest\n",
    "rf_param_grid = {\n",
    "    'n_estimators': [50, 100, 200],      # Number of trees in the forest\n",
    "    'max_depth': [None, 10, 20, 30],     # Maximum depth of the tree\n",
    "    'min_samples_split': [2, 5, 10],     # Minimum number of samples required to split an internal node\n",
    "    'min_samples_leaf': [1, 2, 4],       # Minimum number of samples required to be at a leaf node\n",
    "    'bootstrap': [True, False]           # Method of selecting samples for training each tree\n",
    "}\n",
    "\n",
    "rf_random_search = RandomizedSearchCV(\n",
    "    estimator=RandomForestClassifier(random_state=42),\n",
    "    param_distributions=rf_param_grid,\n",
    "    n_iter=20,  \n",
    "    cv=3,\n",
    "    n_jobs=-1,\n",
    "    scoring='roc_auc',\n",
    "    verbose=2,\n",
    "    random_state=42\n",
    ")\n",
    "rf_random_search.fit(X_train, y_train)\n",
    "\n",
    "print(\"Best Random Forest parameters:\", rf_random_search.best_params_)"
   ]
  },
  {
   "cell_type": "code",
   "execution_count": null,
   "id": "f761692f",
   "metadata": {},
   "outputs": [],
   "source": [
    "# Hyperparameter tuning for XGBoost\n",
    "\n",
    "xgb_param_grid = {\n",
    "    'n_estimators': [50, 100, 200],       # Number of boosting rounds\n",
    "    'max_depth': [3, 6, 10],              # Maximum depth of a tree\n",
    "    'learning_rate': [0.01, 0.1, 0.2],    # Step size shrinkage\n",
    "    'subsample': [0.6, 0.8, 1.0],         # Fraction of samples to be used for fitting the individual base learners\n",
    "    'colsample_bytree': [0.6, 0.8, 1.0],  # Fraction of features to be used for each tree\n",
    "    'gamma': [0, 0.1, 0.2],               # Minimum loss reduction required to make a further partition\n",
    "}\n",
    "\n",
    "# Randomized Search for XGBoost\n",
    "xgb_random_search = RandomizedSearchCV(\n",
    "    estimator=XGBClassifier(random_state=42, use_label_encoder=False, eval_metric='logloss'),\n",
    "    param_distributions=xgb_param_grid,\n",
    "    n_iter=20,  \n",
    "    cv=3,\n",
    "    n_jobs=-1,\n",
    "    scoring='roc_auc',\n",
    "    verbose=2,\n",
    "    random_state=42\n",
    ")\n",
    "xgb_random_search.fit(X_train, y_train)\n",
    "\n",
    "print(\"Best XGBoost parameters:\", xgb_random_search.best_params_)"
   ]
  },
  {
   "cell_type": "markdown",
   "id": "e65a88ce",
   "metadata": {},
   "source": [
    "### Model Evaluation"
   ]
  },
  {
   "cell_type": "code",
   "execution_count": null,
   "id": "5fa37d99",
   "metadata": {},
   "outputs": [],
   "source": [
    "rf_best_model = rf_random_search.best_estimator_\n",
    "xgb_best_model = xgb_random_search.best_estimator_\n",
    "\n",
    "rf_best_predictions = rf_best_model.predict(X_test)\n",
    "xgb_best_predictions = xgb_best_model.predict(X_test)\n",
    "\n",
    "# Evaluate the models\n",
    "rf_best_accuracy = accuracy_score(y_test, rf_best_predictions)\n",
    "rf_best_auc = roc_auc_score(y_test, rf_best_model.predict_proba(X_test)[:, 1])\n",
    "\n",
    "xgb_best_accuracy = accuracy_score(y_test, xgb_best_predictions)\n",
    "xgb_best_auc = roc_auc_score(y_test, xgb_best_model.predict_proba(X_test)[:, 1])\n",
    "\n",
    "print(\"Random Forest Accuracy:\", rf_best_accuracy)\n",
    "print(\"Random Forest AUC Score:\", rf_best_auc)\n",
    "print(\"XGBoost Accuracy:\", xgb_best_accuracy)\n",
    "print(\"XGBoost AUC Score:\", xgb_best_auc)\n"
   ]
  },
  {
   "cell_type": "markdown",
   "id": "a261dce4",
   "metadata": {},
   "source": [
    "### Choosen Best Model: XGBoost "
   ]
  },
  {
   "cell_type": "code",
   "execution_count": null,
   "id": "392b56cc",
   "metadata": {},
   "outputs": [],
   "source": [
    "rf_best_model = rf_random_search.best_estimator_\n",
    "xgb_best_model = xgb_random_search.best_estimator_\n",
    "\n",
    "# predictions on the entire dataset\n",
    "data['donation_probability'] = xgb_best_model.predict_proba(X)[:, 1]\n",
    "\n",
    "# Sort all alumni by predicted donation probability in descending order \n",
    "sorted_alumni = data.sort_values(by='donation_probability', ascending=False)\n",
    "\n",
    "# Top 10,000 alumni selected\n",
    "top_10000_alumni = sorted_alumni.head(10000)\n",
    "\n",
    "print(top_10000_alumni)"
   ]
  },
  {
   "cell_type": "markdown",
   "id": "069d7c3f",
   "metadata": {},
   "source": [
    "# Clustering"
   ]
  },
  {
   "cell_type": "code",
   "execution_count": null,
   "id": "3d97789a",
   "metadata": {},
   "outputs": [],
   "source": [
    "from sklearn.preprocessing import StandardScaler\n",
    "from sklearn.cluster import KMeans\n",
    "\n",
    "# Select features for clustering within the top 10,000 donors\n",
    "top_donors_features = top_10000_alumni[['MI', 'TIME_PERIOD', 'JC', 'UG_AND_GRAD', 'ROTC', 'MARRIED_TO_ALUM']]\n",
    "\n",
    "# Standardize the features\n",
    "scaler = StandardScaler()\n",
    "scaled_top_donors_features = scaler.fit_transform(top_donors_features)\n",
    "\n",
    "# K-Means Clustering\n",
    "kmeans_top_donors = KMeans(n_clusters=4, random_state=42)  # Optimal K=4 was choosen by Elbow Method\n",
    "top_10000_alumni['Cluster'] = kmeans_top_donors.fit_predict(scaled_top_donors_features)\n",
    "\n",
    "print(top_10000_alumni[['ACCOUNT_ID', 'donation_probability', 'Cluster']].head())\n",
    "\n",
    "# Analyse clusters\n",
    "for cluster in range(4):\n",
    "    print(f\"Cluster {cluster}\")\n",
    "    cluster_data = top_10000_alumni[top_10000_alumni['Cluster'] == cluster]\n",
    "    print(cluster_data.describe())\n"
   ]
  },
  {
   "cell_type": "markdown",
   "id": "48c3684d",
   "metadata": {},
   "source": [
    "### Number of Donors in each Cluster"
   ]
  },
  {
   "cell_type": "code",
   "execution_count": null,
   "id": "b34e6ea4",
   "metadata": {},
   "outputs": [],
   "source": [
    "import matplotlib.pyplot as plt\n",
    "import seaborn as sns\n",
    "\n",
    "# Number of donors in each cluster\n",
    "cluster_counts = top_10000_alumni['Cluster'].value_counts().sort_index()\n",
    "\n",
    "plt.figure(figsize=(8, 5))\n",
    "sns.barplot(x=cluster_counts.index, y=cluster_counts.values, palette='viridis')\n",
    "plt.xlabel('Cluster')\n",
    "plt.ylabel('Number of Donors')\n",
    "plt.title('Number of Donors in Each Cluster')\n",
    "plt.show()\n"
   ]
  },
  {
   "cell_type": "markdown",
   "id": "d441cd4e",
   "metadata": {},
   "source": [
    "# Visualisations"
   ]
  },
  {
   "cell_type": "markdown",
   "id": "ba4e4400",
   "metadata": {},
   "source": [
    "### JC (Junior Counselor) and MI (Middle Initial) Across Clusters"
   ]
  },
  {
   "cell_type": "code",
   "execution_count": null,
   "id": "a0b3caf1",
   "metadata": {},
   "outputs": [],
   "source": [
    "import seaborn as sns\n",
    "import matplotlib.pyplot as plt\n",
    "\n",
    "features_to_plot = ['JC', 'MI']\n",
    "\n",
    "for feature in features_to_plot:\n",
    "    plt.figure(figsize=(10, 6))\n",
    "    sns.barplot(x='Cluster', y=feature, data=top_10000_alumni, palette='viridis', ci=None)\n",
    "    plt.title(f'Average {feature} across Clusters')\n",
    "    plt.show()"
   ]
  },
  {
   "cell_type": "markdown",
   "id": "40628f72",
   "metadata": {},
   "source": [
    "### Alumnus Distributed Across Different States in US"
   ]
  },
  {
   "cell_type": "code",
   "execution_count": null,
   "id": "352ab5de",
   "metadata": {},
   "outputs": [],
   "source": [
    "import pandas as pd\n",
    "import matplotlib.pyplot as plt\n",
    "\n",
    "# Group by state and count the number of donors\n",
    "state_counts = top_10000_alumni['STATE'].value_counts()\n",
    "\n",
    "plt.figure(figsize=(14, 7))\n",
    "state_counts.head(10).plot(kind='bar', title='Top States for Donors')\n",
    "plt.xlabel('State')\n",
    "plt.ylabel('Number of Donors')\n",
    "plt.xticks(rotation=90)\n",
    "plt.show()\n"
   ]
  },
  {
   "cell_type": "markdown",
   "id": "e8185723",
   "metadata": {},
   "source": [
    "### Number of Donors in each Time Period"
   ]
  },
  {
   "cell_type": "code",
   "execution_count": null,
   "id": "10383420",
   "metadata": {},
   "outputs": [],
   "source": [
    "import matplotlib.pyplot as plt\n",
    "\n",
    "# Bins for the time periods\n",
    "bins = [-1, 0, 5, 10, 15, 20, 25, 30, 35, 40, 45, 50]\n",
    "labels = ['No gap', '(1-5)', '(5-10)', '(10-15)', '(15-20)', '(20-25)', '(25-30)', '(30-35)', '(35-40)', '(40-45)', '(45-50)']\n",
    "\n",
    "# Categorize the time periods into bins\n",
    "top_10000_alumni['TIME_PERIOD_BIN'] = pd.cut(top_10000_alumni['TIME_PERIOD'], bins=bins, labels=labels)\n",
    "\n",
    "# Number of donors in each time period category\n",
    "time_period_counts = top_10000_alumni['TIME_PERIOD_BIN'].value_counts().sort_index()\n",
    "\n",
    "plt.figure(figsize=(10, 6))\n",
    "time_period_counts.plot(kind='bar', color='navy')\n",
    "plt.title('Distribution of Time Gap Between Studies')\n",
    "plt.xlabel('Time Gap (Years)')\n",
    "plt.ylabel('Number of Donors')\n",
    "plt.xticks(rotation=45)\n",
    "plt.show()\n"
   ]
  }
 ],
 "metadata": {
  "kernelspec": {
   "display_name": "Python 3 (ipykernel)",
   "language": "python",
   "name": "python3"
  },
  "language_info": {
   "codemirror_mode": {
    "name": "ipython",
    "version": 3
   },
   "file_extension": ".py",
   "mimetype": "text/x-python",
   "name": "python",
   "nbconvert_exporter": "python",
   "pygments_lexer": "ipython3",
   "version": "3.11.5"
  }
 },
 "nbformat": 4,
 "nbformat_minor": 5
}
